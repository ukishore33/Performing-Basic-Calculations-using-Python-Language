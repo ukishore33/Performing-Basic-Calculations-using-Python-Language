{
  "nbformat": 4,
  "nbformat_minor": 0,
  "metadata": {
    "colab": {
      "provenance": []
    },
    "kernelspec": {
      "name": "python3",
      "display_name": "Python 3"
    },
    "language_info": {
      "name": "python"
    }
  },
  "cells": [
    {
      "cell_type": "markdown",
      "source": [
        "#Mandatory Project"
      ],
      "metadata": {
        "id": "ydzU_yFm99AV"
      }
    },
    {
      "cell_type": "markdown",
      "source": [
        "Q1: You are working in a bank and you have been given two lists of the employees who worked in 2021. Employee’s name in list 1 are Ramesh, Suresh, Mahesh, Ali, Jacob and Saritha. List 2 contains the names of Ali, Mukesh, Mahesh, Jacob, Sai, Sarita. Please write a program which helps to identify people who are common in both lists. Please do not use any in-built function. "
      ],
      "metadata": {
        "id": "79KlYRqy9utN"
      }
    },
    {
      "cell_type": "code",
      "execution_count": 11,
      "metadata": {
        "colab": {
          "base_uri": "https://localhost:8080/"
        },
        "id": "BxTjzMDt55xT",
        "outputId": "5f693ab1-766b-4863-845c-60f7e120aa64"
      },
      "outputs": [
        {
          "output_type": "stream",
          "name": "stdout",
          "text": [
            "The common names in two lists are:   \n",
            "['Mahesh', 'Ali', 'Jacob']\n",
            "Actually this is case sensitive to spellings too, so saritha is excluded)\n"
          ]
        }
      ],
      "source": [
        "# Define list1 and list2\n",
        "list1 = ['Ramesh', 'Suresh', 'Mahesh', 'Ali', 'Jacob', 'Saritha']\n",
        "list2 = ['Ali', 'Mukesh', 'Mahesh', 'Jacob', 'Sai', 'Sarita']\n",
        "\n",
        "#Create a blank list\n",
        "common = []\n",
        "\n",
        "#Create a loop to search in list1 and list 2 ,the common list\n",
        "\n",
        "for name in list1:\n",
        "    if name in list2:\n",
        "        common.append(name)\n",
        "\n",
        "#Print the required data\n",
        "\n",
        "print(\"The common names in two lists are:   \")  \n",
        "\n",
        "print(common)       \n",
        "\n",
        "print(\"Actually this is case sensitive to spellings too, so saritha is excluded)\")\n"
      ]
    },
    {
      "cell_type": "markdown",
      "source": [
        "\n",
        "Q2: While entering data, someone entered a few names as a common string “Ramesh Suresh Mohit”. Please write a program which separates all the names and convert them into a list. Once converted in a list, please write a program which adds their age. \n",
        "\n",
        "\n",
        "Ramesh :  25\n",
        "\n",
        "Suresh : 22\n",
        "\n",
        "Mohit : 26"
      ],
      "metadata": {
        "id": "HtWuQBrO9r0n"
      }
    },
    {
      "cell_type": "code",
      "source": [
        "given = \"Ramesh Suresh Mohit \"\n",
        "\n",
        "# Split the string into a list of names\n",
        "list1 = given.split()\n",
        "print(list1)\n",
        "# Define scores of student\n",
        "list2 = [25,22,26]\n",
        "print(list2)\n",
        "# combine two lists together\n",
        "students_marks = dict(zip(list1, list2))\n",
        "print(students_marks)\n",
        "# print the results of sum of scores list\n",
        "print(f'The total marks obtained if all candidates combine together is {sum(list2)}')\n",
        "\n",
        "\n",
        "\n",
        "\n",
        "\n",
        "\n"
      ],
      "metadata": {
        "colab": {
          "base_uri": "https://localhost:8080/"
        },
        "id": "8enjmLND81iB",
        "outputId": "2362abc2-da60-47f7-bd94-743886ac3af7"
      },
      "execution_count": 10,
      "outputs": [
        {
          "output_type": "stream",
          "name": "stdout",
          "text": [
            "['Ramesh', 'Suresh', 'Mohit']\n",
            "[25, 22, 26]\n",
            "{'Ramesh': 25, 'Suresh': 22, 'Mohit': 26}\n",
            "The total marks obtained if all candidates combine together is 73\n"
          ]
        }
      ]
    },
    {
      "cell_type": "markdown",
      "source": [
        "Q3: A few students from a university have taken three exams\n",
        "\n",
        "Name = Sam, Jacy, Tom, Steve\n",
        "\n",
        "Python = 25, 26, 29, 28\n",
        "\n",
        "Statistics = 23, 21, 19, 25\n",
        "\n",
        "SQL = 29, 27, 28, 25\n",
        "\n",
        "\n",
        "Please write a program which calculates mean values (no in-built function for mean) of all three tests and print the highest mean value. Addition and other functions are allowed. Please also report who scored the highest mark in python using programming construct."
      ],
      "metadata": {
        "id": "7aBEIssdfqbF"
      }
    },
    {
      "cell_type": "code",
      "source": [
        "# Define the student names and their scores for each test\n",
        "students = ['Sam', 'Jacy', 'Tom', 'Steve']\n",
        "python = [25, 26, 29, 28]\n",
        "statistics = [23, 21, 19, 25]\n",
        "sql = [29, 27, 28, 25]\n",
        "\n",
        "# Calculate the mean values for each test\n",
        "python_mean = sum(python) / len(python)\n",
        "statistics_mean = sum(statistics) / len(statistics)\n",
        "sql_mean = sum(sql) / len(sql)\n",
        "\n",
        "# Find and print the highest mean value and print it\n",
        "highest_mean = max(python_mean, statistics_mean, sql_mean)\n",
        "print(\"The highest mean value is:\", highest_mean)\n",
        "\n",
        "# Find and print the student who scored the highest mark in Python and print their name\n",
        "highest_python_score = max(python)\n",
        "highest_python_score_index = python.index(highest_python_score)\n",
        "student_with_highest_python_score = students[highest_python_score_index]\n",
        "print(f\"The student with the highest mark in Python is: {student_with_highest_python_score}\")\n"
      ],
      "metadata": {
        "colab": {
          "base_uri": "https://localhost:8080/"
        },
        "id": "RDOju55bfxQF",
        "outputId": "a1441b95-6b00-4533-b33c-cd9ca6c5d478"
      },
      "execution_count": 5,
      "outputs": [
        {
          "output_type": "stream",
          "name": "stdout",
          "text": [
            "The highest mean value is: 27.25\n",
            "The student with the highest mark in Python is: Tom\n"
          ]
        }
      ]
    },
    {
      "cell_type": "markdown",
      "source": [
        "Q4: You are working in a medical store. A patient came to your medical store and asked to buy 2 strips of paracetamol, 3 strips of azithromycin and 5 strips of Vitamin C. One strip of paracetamol costs Rs 35, one strip of azithromycin costs Rs 49 and one strip of vitamin c costs Rs. 33. Patient gave you Rs 2000. Please tell us what is the total cost of each medicine, total cost of all medicine and how much money you refunded to the patient? "
      ],
      "metadata": {
        "id": "wHN7E-FGhIPw"
      }
    },
    {
      "cell_type": "code",
      "source": [
        "# Define the number of strips and cost per strip for each medicine\n",
        "paracetamol_strips = 2\n",
        "paracetamol_cost = 35\n",
        "azithromycin_strips = 3\n",
        "azithromycin_cost = 49\n",
        "vitamin_c_strips = 5\n",
        "vitamin_c_cost = 33\n",
        "\n",
        "# Calculating the total cost of each medicine\n",
        "total_paracetamol_cost = paracetamol_strips * paracetamol_cost\n",
        "total_azithromycin_cost = azithromycin_strips * azithromycin_cost\n",
        "total_vitamin_c_cost = vitamin_c_strips * vitamin_c_cost\n",
        "\n",
        "# Calculating the total cost of all medicines\n",
        "total_cost = total_paracetamol_cost + total_azithromycin_cost + total_vitamin_c_cost\n",
        "\n",
        "# Calculate the refund amount\n",
        "refund_amount = 2000 - total_cost\n",
        "\n",
        "# Print the results\n",
        "print(f\"Total cost of paracetamol: Rs{ total_paracetamol_cost}\")\n",
        "print(f\"Total cost of azithromycin: Rs{ total_azithromycin_cost}\")\n",
        "print(f\"Total cost of vitamin C: Rs{ total_vitamin_c_cost}\")\n",
        "print(f\"Total cost of all medicines: Rs{ total_cost}\")\n",
        "print(f\"Refund amount: Rs{ refund_amount}\")\n"
      ],
      "metadata": {
        "colab": {
          "base_uri": "https://localhost:8080/"
        },
        "id": "fZV7BbqKhSAO",
        "outputId": "0f2bc6c3-b8e1-4b86-aa9a-be29a77c73ae"
      },
      "execution_count": 6,
      "outputs": [
        {
          "output_type": "stream",
          "name": "stdout",
          "text": [
            "Total cost of paracetamol: Rs70\n",
            "Total cost of azithromycin: Rs147\n",
            "Total cost of vitamin C: Rs165\n",
            "Total cost of all medicines: Rs382\n",
            "Refund amount: Rs1618\n"
          ]
        }
      ]
    },
    {
      "cell_type": "markdown",
      "source": [
        "Q5: Accept a sentence as input and find the number of vowels in it. Assume that the sentence has no punctuation marks. For example: I am learning python contains 6 vowels. This function should be applicable for all other different sentences."
      ],
      "metadata": {
        "id": "V8I389_Qo1OX"
      }
    },
    {
      "cell_type": "code",
      "source": [
        "# Get the input sentence from the user\n",
        "sentence = input(\"Enter a sentence: \")\n",
        "\n",
        "# Define the set of vowels\n",
        "vowels = {'a', 'e', 'i', 'o', 'u'}\n",
        "\n",
        "# Initialize a counter for the number of vowels\n",
        "num_vowels = 0\n",
        "\n",
        "# Loop through each character in the sentence\n",
        "for char in sentence:\n",
        "\n",
        "    # If the character is a vowel, increment the vowel counter\n",
        "    if char.lower() in vowels:\n",
        "        num_vowels += 1\n",
        "\n",
        "# Print the number of vowels in the sentence\n",
        "print(f\"Number of vowels in the sentence: { num_vowels}\")\n"
      ],
      "metadata": {
        "colab": {
          "base_uri": "https://localhost:8080/"
        },
        "id": "kR-EwZA2oysA",
        "outputId": "1e0e6370-58df-4a73-a9c9-c4033a9fe7ce"
      },
      "execution_count": 9,
      "outputs": [
        {
          "output_type": "stream",
          "name": "stdout",
          "text": [
            "Enter a sentence: Is\n",
            "Number of vowels in the sentence: 1\n"
          ]
        }
      ]
    },
    {
      "cell_type": "markdown",
      "source": [
        "Q6: You have been appointed by the election commission to create a website. Your first task is to work on a program which tells candidates if they are eligible for voting or not. If they are eligible your output should be ‘Congrats! You are eligible’, otherwise it should tell that you have to return after X number of years. Eligibility criteria for voting is 18 years. \n",
        "\n",
        "\n",
        "For example, If someone is 18 or above your output should be ‘Congrats! You are eligible’. If someone’s age is 15 years it should print output as ‘return after 3 years’."
      ],
      "metadata": {
        "id": "RCQtn3ZJqS7_"
      }
    },
    {
      "cell_type": "code",
      "source": [
        "# Get the age of the candidate from the user\n",
        "age = int(input(\"Enter your age: \"))\n",
        "\n",
        "# Check if the candidate is eligible for voting\n",
        "if age >= 18:\n",
        "    print(\"Congrats! You are eligible\")\n",
        "else:\n",
        "    years_to_wait = 18 - age\n",
        "    print(f\"Sorry, you are not eligible to vote. Please come back in {years_to_wait} year.\")\n"
      ],
      "metadata": {
        "colab": {
          "base_uri": "https://localhost:8080/"
        },
        "id": "U0M7j-RUqVw-",
        "outputId": "e5ccd329-7417-47ed-d8cd-a4d227b32c07"
      },
      "execution_count": 8,
      "outputs": [
        {
          "output_type": "stream",
          "name": "stdout",
          "text": [
            "Enter your age: 7\n",
            "Sorry, you are not eligible to vote. Please come back in 11 year.\n"
          ]
        }
      ]
    }
  ]
}